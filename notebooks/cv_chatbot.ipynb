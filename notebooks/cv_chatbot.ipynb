{
 "cells": [
  {
   "attachments": {},
   "cell_type": "markdown",
   "metadata": {},
   "source": [
    "# Set-up"
   ]
  },
  {
   "cell_type": "code",
   "execution_count": 4,
   "metadata": {},
   "outputs": [],
   "source": [
    "import os\n",
    "import base64\n",
    "from langchain.document_loaders import PDFMinerLoader\n",
    "from langchain.indexes import VectorstoreIndexCreator\n",
    "from impersonate_gpt.utils.langchain_utils import get_actual_prompt\n",
    "from langchain.callbacks import get_openai_callback\n",
    "from langchain.chains import RetrievalQA\n",
    "from langchain.llms import OpenAI"
   ]
  },
  {
   "attachments": {},
   "cell_type": "markdown",
   "metadata": {},
   "source": [
    "# Lanchaing creation"
   ]
  },
  {
   "cell_type": "code",
   "execution_count": 5,
   "metadata": {},
   "outputs": [],
   "source": [
    "# OpenAI saved encoded in base64 in a single-line file at data folder\n",
    "with open(\"../data/secrets.txt\") as secrets:\n",
    "    open_ai_key = secrets.readline()\n",
    "    open_ai_key = base64.b64decode(open_ai_key).decode('ascii')\n",
    "os.environ[\"OPENAI_API_KEY\"] = open_ai_key"
   ]
  },
  {
   "cell_type": "code",
   "execution_count": 6,
   "metadata": {},
   "outputs": [],
   "source": [
    "# Place your cv in data folder and load here\n",
    "loader = PDFMinerLoader('../data/my_cv.pdf')"
   ]
  },
  {
   "cell_type": "code",
   "execution_count": 7,
   "metadata": {},
   "outputs": [
    {
     "name": "stderr",
     "output_type": "stream",
     "text": [
      "Using embedded DuckDB without persistence: data will be transient\n"
     ]
    }
   ],
   "source": [
    "# Creating the cv database for document indexing\n",
    "index_creator = VectorstoreIndexCreator()\n",
    "docsearch = index_creator.from_loaders([loader])"
   ]
  },
  {
   "cell_type": "code",
   "execution_count": 8,
   "metadata": {},
   "outputs": [],
   "source": [
    "# Creating the langchain with the default OpenAI model for quering\n",
    "chain = RetrievalQA.from_chain_type(\n",
    "    llm=OpenAI(),\n",
    "    chain_type=\"stuff\",\n",
    "    retriever=docsearch.vectorstore.as_retriever(),\n",
    "    input_key=\"question\",\n",
    "    verbose=True,\n",
    "    return_source_documents=True,\n",
    ")"
   ]
  },
  {
   "attachments": {},
   "cell_type": "markdown",
   "metadata": {},
   "source": [
    "# Playing with chain"
   ]
  },
  {
   "cell_type": "code",
   "execution_count": 9,
   "metadata": {},
   "outputs": [
    {
     "name": "stdout",
     "output_type": "stream",
     "text": [
      "\n",
      "\n",
      "\u001b[1m> Entering new RetrievalQA chain...\u001b[0m\n",
      "\n",
      "\u001b[1m> Finished chain.\u001b[0m\n",
      " Aitor Mira Abad is a passionate artificial intelligence enthusiast with a strong background in data science, specifically in solving complex problems with data. He has several years of professional experience in the field, working with a variety of technologies and tools such as Python, JavaScript, HTML/CSS, Docker, Google Analytics, SQL, Flask, Pandas, Numpy, Scikit-learn, D3, Google Data Studio, Kibana, Visual Basic, Bash, TensorFlow, Qlik, and PyTorch. He has a Bachelor's degree in Civil Engineering and a Master's degree in Transportation Management and Mobility Behavior Analysis.\n"
     ]
    }
   ],
   "source": [
    "# Simple question\n",
    "question = \"Who is Aitor Mira Abad?\"\n",
    "response = chain({\"question\": question})\n",
    "print(response[\"result\"])"
   ]
  },
  {
   "cell_type": "code",
   "execution_count": 10,
   "metadata": {},
   "outputs": [
    {
     "name": "stdout",
     "output_type": "stream",
     "text": [
      "Use the following pieces of context to answer the question at the end. If you don't know the answer, just say that you don't know, don't try to make up an answer.\n",
      "\n",
      "Aitor Mira Abad\n",
      "Solving complex problems with data\n",
      "\n",
      "About me\n",
      "As a passionate artificial intelligence enthusiast, I embrace new technology and continuously engage in side\n",
      "projects and hands-on testing to expand my knowledge and skills. My strong analytical skills and ability to think\n",
      "critically make me particularly drawn to projects that involve high levels of uncertainty and the need for\n",
      "comprehensive problem-solving.\n",
      "\n",
      "Contact\n",
      "\n",
      "+ info\n",
      "\n",
      "+34 630422029\n",
      "\n",
      "Detailed CV\n",
      "\n",
      "Web Portfolio\n",
      "\n",
      "Check following pages\n",
      "\n",
      "https://itortouch.github.io\n",
      "\n",
      "itortouch@gmail.com\n",
      "\n",
      "Remote (Valencia, Spain)\n",
      "\n",
      "Aitor Mira Abad\n",
      "\n",
      "@iTortouch\n",
      "\n",
      "Tech stack\n",
      "\n",
      "Career\n",
      "\n",
      "Python\n",
      "\n",
      "SQL\n",
      "\n",
      "NoSQL\n",
      "\n",
      "Unix\n",
      "\n",
      "Bash\n",
      "\n",
      "Git\n",
      "\n",
      "Docker Airflow\n",
      "\n",
      "Pandas\n",
      "\n",
      "Numpy\n",
      "\n",
      "Scikit learn\n",
      "\n",
      "Tensorflow Pytorch\n",
      "\n",
      "Huggingface\n",
      "\n",
      "Senior Data\n",
      "Scientist\n",
      "Oct 2021 - today\n",
      "(1 year and 5 months)\n",
      "\n",
      "Senior Data Scientist developing core\n",
      "algorithms and researching innovative\n",
      "solutions for the retail industry at Nextail.\n",
      "\n",
      "Bash / Microsoft Excel / Visual Basic / Scikit-learn / SQL / SciPy / HTML / Numpy / Git / Airflow /\n",
      "\n",
      "Google Sheets\n",
      "\n",
      "Aitor Mira Abad\n",
      "\n",
      "ENJOYING SOLVING\n",
      "COMPLEX PROBLEMS WITH\n",
      "DATA\n",
      "\n",
      "CONTACT\n",
      "\n",
      "itortouch@gmail.com\n",
      "\n",
      "+34630422021\n",
      "\n",
      "Valencia, Spain\n",
      "\n",
      "MY LINKS\n",
      "\n",
      "itortouch\n",
      "\n",
      "iTortouch\n",
      "\n",
      "aitor-mira\n",
      "\n",
      "itortouch.github.io\n",
      "\n",
      "mnf.red/aitor_mira\n",
      "\n",
      "Languages\n",
      "\n",
      "Valencian\n",
      "\n",
      "NATIVE/BILINGUAL\n",
      "\n",
      "Spanish\n",
      "\n",
      "English\n",
      "\n",
      "NATIVE/BILINGUAL\n",
      "\n",
      "FLUID\n",
      "\n",
      "\fPROFESSIONAL EXPERIENCE/CAREER\n",
      "\n",
      "Nextail\n",
      "\n",
      "Senior Data Scientist\n",
      "Oct 2021 — TODAY (1 year and 5 months)\n",
      "\n",
      "Senior Data Scientist developing core algorithms and researching innovative solutions for the retail industry at Nextail.\n",
      "\n",
      "Some of the projects I've worked on or am currently working on include:\n",
      "\n",
      "Seasonal demand/stock forecasting\n",
      "\n",
      "Product similarity algorithm (attribute based)\n",
      "\n",
      "Product demand potential forecasting\n",
      "\n",
      "Assortment simulation and optimization\n",
      "\n",
      "Working with tools such as:\n",
      "\n",
      "Python\n",
      "\n",
      "SQL (Aurora, Redshift, Snowflake)\n",
      "\n",
      "S3\n",
      "\n",
      "GIT (Github)\n",
      "\n",
      "Databricks\n",
      "\n",
      "Dagster\n",
      "\n",
      "DBT\n",
      "\n",
      "Specialized in transportation management and mobility behavior analysis, my Master's degree journey was marked by several significant\n",
      "\n",
      "milestones, including:\n",
      "\n",
      "Being elected as the President of the University Student Council and serving as the Coordinator for university presidents in the\n",
      "\n",
      "Valencia region.\n",
      "\n",
      "Receiving the PROMOE scholarship, which enabled me to complete my final semester of the Master's program at the Hong Kong\n",
      "\n",
      "University of Science and Technology (HKUST).\n",
      "\n",
      "Joining a research group focused on big data visualization, where I created a live traffic map for Hong Kong.\n",
      "\n",
      "Completing my Master's Thesis on the \"Public Transportation Accessibility Model for the Alicante-Elx Metropolitan Area,\" using\n",
      "\n",
      "Python and JavaScript.\n",
      "\n",
      "\fUniversitat Politècnica de València\n",
      "\n",
      "Civil Engineering\n",
      "Sep 2010 — Jul 2015 (4 yrs. and 11 months)\n",
      "\n",
      "Bachelor's degree covering the three main branches: structures, hydraulic, and transportation, with a specialization in transportation and\n",
      "\n",
      "Automatic classification of customer service messages (natural language processing)\n",
      "\n",
      "Routing meta-optimisation\n",
      "\n",
      "Business dashboard development\n",
      "\n",
      "Work with tools such as\n",
      "\n",
      "Working with tools as:\n",
      "\n",
      "Python\n",
      "\n",
      "SQL (Intersystems Cache)\n",
      "\n",
      "GIT (Bitbucket)\n",
      "\n",
      "Bash Scripting\n",
      "\n",
      "Containers (Docker)\n",
      "\n",
      "Data manipulation libraries (e.g. Pandas, Numpy...)\n",
      "\n",
      "Viz libraries (e.g. plotly, seaborn, bokeh...)\n",
      "\n",
      "Machine Learning libraries (e.g. Sklearn, XGBoost, lightGBM... )\n",
      "\n",
      "Deep Learning libraries (e.g. PyTorch, TensorFlow, HuggingFace, Spacy...)\n",
      "\n",
      "Microservices/API libraries (e.g. Flask, FastAPI...)\n",
      "\n",
      "Javascript\n",
      "\n",
      "HTML/CSS\n",
      "\n",
      "Dashboards (e.g. Qlik, Kibana)\n",
      "\n",
      "TECHNOLOGIES AND TOOLS\n",
      "\n",
      "Python / JavaScript / HTML / CSS / Docker / Google Analytics / SQL / Flask / Pandas / Numpy / Scikit-learn / D3 /\n",
      "\n",
      "Google Data Studio / Kibana / Visual Basic / Bash / TensorFlow / Qlik / PyTorch\n",
      "\n",
      "\fCPS Infraestructuras Movilidad y Medio Ambiente\n",
      "\n",
      "Data Analyst - Mobility\n",
      "Nov 2017 — May 2019 (1 year and 7 months)\n",
      "\n",
      "Question: Who is Aitor Mira Abad?\n",
      "Helpful Answer:\n"
     ]
    }
   ],
   "source": [
    "# Retrieving the prompt sent to OpenAI LLM. Interesting for understanding how langchain works.\n",
    "question = \"Who is Aitor Mira Abad?\"\n",
    "actual_prompt = get_actual_prompt(chain, question)\n",
    "print(actual_prompt)"
   ]
  },
  {
   "cell_type": "code",
   "execution_count": 11,
   "metadata": {},
   "outputs": [
    {
     "data": {
      "text/plain": [
       "[Document(page_content='Aitor Mira Abad\\nSolving complex problems with data\\n\\nAbout me\\nAs a passionate artificial intelligence enthusiast, I embrace new technology and continuously engage in side\\nprojects and hands-on testing to expand my knowledge and skills. My strong analytical skills and ability to think\\ncritically make me particularly drawn to projects that involve high levels of uncertainty and the need for\\ncomprehensive problem-solving.\\n\\nContact\\n\\n+ info\\n\\n+34 630422029\\n\\nDetailed CV\\n\\nWeb Portfolio\\n\\nCheck following pages\\n\\nhttps://itortouch.github.io\\n\\nitortouch@gmail.com\\n\\nRemote (Valencia, Spain)\\n\\nAitor Mira Abad\\n\\n@iTortouch\\n\\nTech stack\\n\\nCareer\\n\\nPython\\n\\nSQL\\n\\nNoSQL\\n\\nUnix\\n\\nBash\\n\\nGit\\n\\nDocker Airflow\\n\\nPandas\\n\\nNumpy\\n\\nScikit learn\\n\\nTensorflow Pytorch\\n\\nHuggingface\\n\\nSenior Data\\nScientist\\nOct 2021 - today\\n(1 year and 5 months)\\n\\nSenior Data Scientist developing core\\nalgorithms and researching innovative\\nsolutions for the retail industry at Nextail.', metadata={'source': '../data/my_cv.pdf'}),\n",
       " Document(page_content=\"Bash / Microsoft Excel / Visual Basic / Scikit-learn / SQL / SciPy / HTML / Numpy / Git / Airflow /\\n\\nGoogle Sheets\\n\\nAitor Mira Abad\\n\\nENJOYING SOLVING\\nCOMPLEX PROBLEMS WITH\\nDATA\\n\\nCONTACT\\n\\nitortouch@gmail.com\\n\\n+34630422021\\n\\nValencia, Spain\\n\\nMY LINKS\\n\\nitortouch\\n\\niTortouch\\n\\naitor-mira\\n\\nitortouch.github.io\\n\\nmnf.red/aitor_mira\\n\\nLanguages\\n\\nValencian\\n\\nNATIVE/BILINGUAL\\n\\nSpanish\\n\\nEnglish\\n\\nNATIVE/BILINGUAL\\n\\nFLUID\\n\\n\\x0cPROFESSIONAL EXPERIENCE/CAREER\\n\\nNextail\\n\\nSenior Data Scientist\\nOct 2021 — TODAY (1 year and 5 months)\\n\\nSenior Data Scientist developing core algorithms and researching innovative solutions for the retail industry at Nextail.\\n\\nSome of the projects I've worked on or am currently working on include:\\n\\nSeasonal demand/stock forecasting\\n\\nProduct similarity algorithm (attribute based)\\n\\nProduct demand potential forecasting\\n\\nAssortment simulation and optimization\\n\\nWorking with tools such as:\\n\\nPython\\n\\nSQL (Aurora, Redshift, Snowflake)\\n\\nS3\\n\\nGIT (Github)\\n\\nDatabricks\\n\\nDagster\\n\\nDBT\", metadata={'source': '../data/my_cv.pdf'}),\n",
       " Document(page_content='Specialized in transportation management and mobility behavior analysis, my Master\\'s degree journey was marked by several significant\\n\\nmilestones, including:\\n\\nBeing elected as the President of the University Student Council and serving as the Coordinator for university presidents in the\\n\\nValencia region.\\n\\nReceiving the PROMOE scholarship, which enabled me to complete my final semester of the Master\\'s program at the Hong Kong\\n\\nUniversity of Science and Technology (HKUST).\\n\\nJoining a research group focused on big data visualization, where I created a live traffic map for Hong Kong.\\n\\nCompleting my Master\\'s Thesis on the \"Public Transportation Accessibility Model for the Alicante-Elx Metropolitan Area,\" using\\n\\nPython and JavaScript.\\n\\n\\x0cUniversitat Politècnica de València\\n\\nCivil Engineering\\nSep 2010 — Jul 2015 (4 yrs. and 11 months)\\n\\nBachelor\\'s degree covering the three main branches: structures, hydraulic, and transportation, with a specialization in transportation and', metadata={'source': '../data/my_cv.pdf'}),\n",
       " Document(page_content='Automatic classification of customer service messages (natural language processing)\\n\\nRouting meta-optimisation\\n\\nBusiness dashboard development\\n\\nWork with tools such as\\n\\nWorking with tools as:\\n\\nPython\\n\\nSQL (Intersystems Cache)\\n\\nGIT (Bitbucket)\\n\\nBash Scripting\\n\\nContainers (Docker)\\n\\nData manipulation libraries (e.g. Pandas, Numpy...)\\n\\nViz libraries (e.g. plotly, seaborn, bokeh...)\\n\\nMachine Learning libraries (e.g. Sklearn, XGBoost, lightGBM... )\\n\\nDeep Learning libraries (e.g. PyTorch, TensorFlow, HuggingFace, Spacy...)\\n\\nMicroservices/API libraries (e.g. Flask, FastAPI...)\\n\\nJavascript\\n\\nHTML/CSS\\n\\nDashboards (e.g. Qlik, Kibana)\\n\\nTECHNOLOGIES AND TOOLS\\n\\nPython / JavaScript / HTML / CSS / Docker / Google Analytics / SQL / Flask / Pandas / Numpy / Scikit-learn / D3 /\\n\\nGoogle Data Studio / Kibana / Visual Basic / Bash / TensorFlow / Qlik / PyTorch\\n\\n\\x0cCPS Infraestructuras Movilidad y Medio Ambiente\\n\\nData Analyst - Mobility\\nNov 2017 — May 2019 (1 year and 7 months)', metadata={'source': '../data/my_cv.pdf'})]"
      ]
     },
     "execution_count": 11,
     "metadata": {},
     "output_type": "execute_result"
    }
   ],
   "source": [
    "# Getting the retrieved docs for query\n",
    "chain._get_docs(question)"
   ]
  },
  {
   "cell_type": "code",
   "execution_count": 12,
   "metadata": {},
   "outputs": [
    {
     "name": "stdout",
     "output_type": "stream",
     "text": [
      "\n",
      "\n",
      "\u001b[1m> Entering new RetrievalQA chain...\u001b[0m\n",
      "\n",
      "\u001b[1m> Finished chain.\u001b[0m\n",
      " \n",
      "ML Engineer:\n",
      "Pros:\n",
      "-Strong experience with machine learning libraries like Pytorch, TensorFlow, HuggingFace, etc.\n",
      "-Experience with deep learning libraries like Scikit-learn, XGBoost, lightGBM, etc.\n",
      "-Experience with technologies like AWS, Docker, GIT, etc.\n",
      "Cons:\n",
      "-Lack of experience with web-based technologies like HTML, CSS, and JavaScript\n",
      "\n",
      "Data Scientist:\n",
      "Pros:\n",
      "-Strong experience with data manipulation libraries like Pandas, Numpy, etc.\n",
      "-Experience with machine learning libraries like Scikit-learn, XGBoost, lightGBM, etc.\n",
      "-Experience with web-based technologies like HTML, CSS, and JavaScript\n",
      "Cons:\n",
      "-Lack of experience with deep learning libraries like Pytorch, TensorFlow, HuggingFace, etc.\n",
      "-Lack of experience with technologies like AWS, Docker, GIT, etc.\n",
      "Total Tokens: 1388\n",
      "Prompt Tokens: 1187\n",
      "Completion Tokens: 201\n",
      "Successful Requests: 1\n",
      "Total Cost (USD): $0.02776\n"
     ]
    }
   ],
   "source": [
    "# More elaborated question with the OpenAI returning some useful execution information\n",
    "with get_openai_callback() as cb:\n",
    "    query = \"Do you think Aitor is best suited for a ML Engineer or a Data Scientist position?. Make some bullet points with pros and cons for each position.\"\n",
    "    response = chain({\"question\": query})\n",
    "    print(response[\"result\"])\n",
    "    print(f\"Total Tokens: {cb.total_tokens}\")\n",
    "    print(f\"Prompt Tokens: {cb.prompt_tokens}\")\n",
    "    print(f\"Completion Tokens: {cb.completion_tokens}\")\n",
    "    print(f\"Successful Requests: {cb.successful_requests}\")\n",
    "    print(f\"Total Cost (USD): ${cb.total_cost}\")\n"
   ]
  }
 ],
 "metadata": {
  "kernelspec": {
   "display_name": "impersonate-gpt",
   "language": "python",
   "name": "python3"
  },
  "language_info": {
   "codemirror_mode": {
    "name": "ipython",
    "version": 3
   },
   "file_extension": ".py",
   "mimetype": "text/x-python",
   "name": "python",
   "nbconvert_exporter": "python",
   "pygments_lexer": "ipython3",
   "version": "3.9.16"
  },
  "orig_nbformat": 4
 },
 "nbformat": 4,
 "nbformat_minor": 2
}
