{
 "cells": [
  {
   "cell_type": "code",
   "execution_count": 3,
   "metadata": {},
   "outputs": [],
   "source": [
    "import os\n",
    "import base64\n",
    "from langchain.indexes import VectorstoreIndexCreator\n",
    "from langchain.document_loaders import WhatsAppChatLoader\n",
    "from langchain.text_splitter import RecursiveCharacterTextSplitter\n",
    "# from langchain.callbacks import get_openai_callback\n",
    "from langchain.chains import RetrievalQA\n",
    "# from langchain.llms import OpenAI"
   ]
  },
  {
   "cell_type": "code",
   "execution_count": 4,
   "metadata": {},
   "outputs": [],
   "source": [
    "from langchain.agents import ZeroShotAgent, Tool, AgentExecutor\n",
    "from langchain.memory import ConversationBufferMemory\n",
    "from langchain import OpenAI, LLMChain\n",
    "from langchain.utilities import GoogleSearchAPIWrapper"
   ]
  },
  {
   "cell_type": "code",
   "execution_count": 5,
   "metadata": {},
   "outputs": [],
   "source": [
    "# OpenAI saved encoded in base64 in a single-line file at data folder\n",
    "with open(\"../data/secrets.txt\") as secrets:\n",
    "    open_ai_key = secrets.readline()\n",
    "    open_ai_key = base64.b64decode(open_ai_key).decode('ascii')\n",
    "os.environ[\"OPENAI_API_KEY\"] = open_ai_key"
   ]
  },
  {
   "cell_type": "code",
   "execution_count": 6,
   "metadata": {},
   "outputs": [
    {
     "name": "stderr",
     "output_type": "stream",
     "text": [
      "Using embedded DuckDB without persistence: data will be transient\n"
     ]
    }
   ],
   "source": [
    "loader = WhatsAppChatLoader(\"../data/andrea_wchat.txt\")\n",
    "# docs = loader.load()\n",
    "# Creating the cv database for document indexing\n",
    "text_splitter = RecursiveCharacterTextSplitter(chunk_size=1000, chunk_overlap=0)\n",
    "index_creator = VectorstoreIndexCreator(text_splitter=text_splitter)\n",
    "docsearch = index_creator.from_loaders([loader])\n",
    "retriever = docsearch.vectorstore.as_retriever()"
   ]
  },
  {
   "cell_type": "code",
   "execution_count": 7,
   "metadata": {},
   "outputs": [
    {
     "data": {
      "text/plain": [
       "[Document(page_content='Aitor Mira on 13/11/16, 19:43: Que son los chófer del viernes\\n\\nAitor Mira on 13/11/16, 19:43: Lo que no sé es tamara con quien ha contactado\\n\\nAitor Mira on 13/11/16, 19:44: He llamado al del viernes y me ha dicho que contacte con tranvía y ellos me dicen\\n\\nAndrea Paricio Henares on 13/11/16, 19:44: Vale\\n\\nAndrea Paricio Henares on 13/11/16, 19:44: Contacto yo?\\n\\nAitor Mira on 13/11/16, 19:44: Ahora los llamo yo, no te preocupes\\n\\nAndrea Paricio Henares on 13/11/16, 19:45: No, que va\\n\\nAndrea Paricio Henares on 13/11/16, 19:45: Vale, pero veme diciendo\\n\\nAitor Mira on 13/11/16, 19:54: Ya les he llamado\\n\\nAitor Mira on 13/11/16, 19:54: El servicio lo presta la marina de Gandía y hasta mañana no podrán decirnos\\n\\nAndrea Paricio Henares on 13/11/16, 20:01: Vale\\n\\nAitor Mira on 13/11/16, 20:01: Mañana llamarán a administración y nos dirán\\n\\nAitor Mira on 13/11/16, 20:02: Les dejo un correo a los admins para que estén enterados y la recuperen', metadata={'source': '..\\\\data\\\\andrea_wchat.txt'}),\n",
       " Document(page_content='Aitor Mira on 17/11/16, 20:07: Entonces, are you ready?\\n\\nAndrea Paricio Henares on 17/11/16, 20:08: A las 9 sí xD\\n\\nAitor Mira on 17/11/16, 20:09: Valep\\n\\nAndrea Paricio Henares on 17/11/16, 20:10: A donde voy?\\n\\nAitor Mira on 17/11/16, 20:13: Pues a ver\\n\\nAitor Mira on 17/11/16, 20:13: Cuando estés lista, avisame\\n\\nAitor Mira on 17/11/16, 20:14: Estoy en la campus tomando un \"cerveza\" de trabajo, por unas jornadas quedamos organizando en caminos, pero en media hora terminamos\\n\\nAitor Mira on 17/11/16, 20:15: Así que en terminar voy camino a mi piso que estamos al lado\\n\\nAitor Mira on 17/11/16, 20:15: Y vamos donde decidamos\\n\\nAndrea Paricio Henares on 17/11/16, 20:16: Entonces mercadona\\n\\nAndrea Paricio Henares on 17/11/16, 20:16: Vame\\n\\nAndrea Paricio Henares on 17/11/16, 20:16: Vale\\n\\nAndrea Paricio Henares on 17/11/16, 21:10: Tu numero era?\\n\\nAitor Mira on 17/11/16, 21:10: Avenida Blasco Ibáñez 73\\n\\nAitor Mira on 17/11/16, 21:10: Estás ya?\\n\\nAndrea Paricio Henares on 17/11/16, 21:11: Sip', metadata={'source': '..\\\\data\\\\andrea_wchat.txt'}),\n",
       " Document(page_content='Aitor Mira on 23/3/22, 13:33: Ah! Otra cosa, respecto al colchón, nosotros teníamos alquilado un trastero que está al lado de vuestra futura casa, por si os pudiese interesar\\n\\nAndrea Paricio Henares on 23/3/22, 13:34: Okey\\n\\nAndrea Paricio Henares on 23/3/22, 13:35: Esta tarde hago la transferencia a la cuenta\\n\\nAndrea Paricio Henares on 23/3/22, 13:35: Y leo el contrato\\n\\nAndrea Paricio Henares on 23/3/22, 13:35: Lo has leído tu?\\n\\nAitor Mira on 23/3/22, 13:51: No he podido mirar nada aún\\n\\nAitor Mira on 5/5/22, 20:58: Por algún motivo telegram no me va\\n\\nAitor Mira on 5/5/22, 20:58: Voy por benimaclet en tranvía\\n\\nAndrea Paricio Henares on 5/5/22, 20:58: Oki\\n\\nAndrea Paricio Henares on 5/5/22, 20:58: Vamos a mercabanyal\\n\\nAitor Mira on 5/5/22, 20:58: Oki\\n\\nAndrea Paricio Henares on 5/5/22, 20:58: Que me mola más el concepto\\n\\nAitor Mira on 5/5/22, 20:58: 👍🏻\\n\\nAitor Mira on 2/6/22, 16:00: voy ya me llevan rn coche\\n\\nAndrea Paricio Henares on 2/6/22, 16:01: Cuando venga mi voy', metadata={'source': '..\\\\data\\\\andrea_wchat.txt'}),\n",
       " Document(page_content='Andrea Paricio Henares on 26/10/16, 21:36: 👌🏻\\n\\nAitor Mira on 26/10/16, 21:37: Luego nombro capitanas de cada equipo y que lleven los billetes de su grupo\\n\\nAndrea Paricio Henares on 26/10/16, 21:39: xDDDDD\\n\\nAndrea Paricio Henares on 26/10/16, 21:39: vale\\n\\nAndrea Paricio Henares on 26/10/16, 22:16: cómo dormimos en granada?\\n\\nAndrea Paricio Henares on 26/10/16, 22:16: en plan hotel/habitaciones\\n\\nAitor Mira on 26/10/16, 22:16: Hotel habitaciones\\n\\nAitor Mira on 26/10/16, 22:17: Pero aún no me han dado la distribución\\n\\nAndrea Paricio Henares on 26/10/16, 22:17: vale\\n\\nAndrea Paricio Henares on 26/10/16, 22:17: cuando lo sepas dilo :)\\n\\nAitor Mira on 26/10/16, 22:18: Descuida 😊\\n\\nAndrea Paricio Henares on 1/11/16, 12:25: perdona si soy pesada pero, laura pasó lo de las alergias de ana y lo de que mica y yo somos veganas?\\n\\nAitor Mira on 1/11/16, 12:26: Pues voy a comprobarlo\\n\\nAndrea Paricio Henares on 1/11/16, 12:26: vale, gracias ^^', metadata={'source': '..\\\\data\\\\andrea_wchat.txt'})]"
      ]
     },
     "execution_count": 7,
     "metadata": {},
     "output_type": "execute_result"
    }
   ],
   "source": [
    "test_retrieval = retriever.get_relevant_documents(\"Trenes.\")\n",
    "test_retrieval"
   ]
  },
  {
   "cell_type": "code",
   "execution_count": 8,
   "metadata": {},
   "outputs": [],
   "source": [
    "wapp_andrea = RetrievalQA.from_chain_type(llm=OpenAI(temperature=0), chain_type=\"stuff\", retriever=retriever)"
   ]
  },
  {
   "cell_type": "code",
   "execution_count": 9,
   "metadata": {},
   "outputs": [
    {
     "data": {
      "text/plain": [
       "'May 29, 2023 ... La convocatoria de las comicios aparecerá publicada el martes 30 de mayo en el BOE, de forma que las elecciones generales serán el domingo 23 de\\xa0... Apr 29, 2023 ... Las elecciones municipales en España se han celebrado este domingo 28 de mayo de 2023, cuatro años después de las anteriores (que fueron el 26\\xa0... 7 days ago ... El próximo 23 de julio se celebran elecciones generales en España. Si no vas a estar en tu domicilio habitual en esa fecha, puedes solicitar\\xa0... May 30, 2023 ... Las elecciones municipales si son a nivel general, y se celebrarán en todos los municipios de España en el mismo día. Las elecciones municipales\\xa0... Apr 4, 2023 ... El próximo 28 de mayo se celebran las elecciones municipales en todo el ... del Estado el martes 4 de abril, fecha en el que entró en vigor. Jan 2, 2023 ... A día de hoy se sabe que las elecciones generales son este año, pero todavía no se sabe con exactitud la fecha en la que se celebrarán los\\xa0... También se celebrarán elecciones municipales en toda España. Por un lado, podrán participar en las elecciones a las Comunidades y Ciudades Autónomas mencionadas\\xa0... Mar 2, 2023 ... Elecciones generales, autonómicas y municipales en España: cuándo son, fechas y calendario electoral 2023. Este año tendremos dos grandes citas\\xa0... Apr 5, 2023 ... INFORMACIÓN ACTUALIZADA CON FECHA 11 DE ABRIL DE 2023. SOBRE CONSULTA DEL CENSO ELECTORAL, RECLAMACIONES Y MODALIDADES DE VOTACIÓN. o) El Gobernador y Subgobernador del Banco de España y los Presidentes y Directores ... Los decretos de convocatoria señalan la fecha de las elecciones que\\xa0...'"
      ]
     },
     "execution_count": 9,
     "metadata": {},
     "output_type": "execute_result"
    }
   ],
   "source": [
    "search = GoogleSearchAPIWrapper(google_api_key=\"\", google_cse_id=\"\")\n",
    "search.run(\"fecha elecciones españa\")"
   ]
  },
  {
   "cell_type": "code",
   "execution_count": 10,
   "metadata": {},
   "outputs": [],
   "source": [
    "tools = [\n",
    "    Tool(\n",
    "        name = \"Search\",\n",
    "        func=search.run,\n",
    "        description=\"useful for when you need to answer questions about current events\"\n",
    "    ),\n",
    "    Tool(\n",
    "        name = \"Whatsapp chat with Andrea\",\n",
    "        func=wapp_andrea.run,\n",
    "        description=\"useful when you need information about Andrea, Aitor and his conversations. Including his tone and style.\"\n",
    "    )\n",
    "]"
   ]
  },
  {
   "cell_type": "code",
   "execution_count": 11,
   "metadata": {},
   "outputs": [],
   "source": [
    "prefix = \"\"\"Have a conversation with a human, answering the following questions as best you can. You have access to the following tools:\"\"\"\n",
    "suffix = \"\"\"Begin!\"\n",
    "\n",
    "{chat_history}\n",
    "Question: {input}\n",
    "{agent_scratchpad}\"\"\"\n",
    "\n",
    "prompt = ZeroShotAgent.create_prompt(\n",
    "    tools, \n",
    "    prefix=prefix, \n",
    "    suffix=suffix, \n",
    "    input_variables=[\"input\", \"chat_history\", \"agent_scratchpad\"]\n",
    ")\n",
    "memory = ConversationBufferMemory(memory_key=\"chat_history\")"
   ]
  },
  {
   "cell_type": "code",
   "execution_count": 12,
   "metadata": {},
   "outputs": [],
   "source": [
    "llm_chain = LLMChain(llm=OpenAI(temperature=0), prompt=prompt)\n",
    "agent = ZeroShotAgent(llm_chain=llm_chain, tools=tools, verbose=True)\n",
    "agent_chain = AgentExecutor.from_agent_and_tools(agent=agent, tools=tools, verbose=True, memory=memory)"
   ]
  },
  {
   "cell_type": "code",
   "execution_count": 21,
   "metadata": {},
   "outputs": [],
   "source": [
    "from langchain.agents import StructuredChatAgent\n",
    "from langchain.chat_models import ChatOpenAI"
   ]
  },
  {
   "cell_type": "code",
   "execution_count": 22,
   "metadata": {},
   "outputs": [],
   "source": [
    "chat_llm = ChatOpenAI(temperature=0)\n",
    "chat_llm_chain = LLMChain(llm=chat_llm, prompt=prompt)\n",
    "chat_agent = StructuredChatAgent(llm_chain=chat_llm_chain, tools=tools, verbose=True)\n",
    "chat_agent_chain = AgentExecutor.from_agent_and_tools(agent=chat_agent, tools=tools, verbose=True, memory=memory)"
   ]
  },
  {
   "cell_type": "code",
   "execution_count": 20,
   "metadata": {},
   "outputs": [
    {
     "name": "stdout",
     "output_type": "stream",
     "text": [
      "\n",
      "\n",
      "\u001b[1m> Entering new AgentExecutor chain...\u001b[0m\n",
      "\u001b[32;1m\u001b[1;3mThought: I need to calculate the answer to the first question\n",
      "Action: Search\n",
      "Action Input: Population of Spain\u001b[0m\n",
      "Observation: \u001b[36;1m\u001b[1;3mThe current population of Spain is 46,807,685 as of Thursday, June 8, 2023, based on Worldometer elaboration of the latest United Nations data. · Spain 2020 ... Conversion to Islam proceeded at an increasing pace. The muladíes (Muslims of ethnic Iberian origin) are believed to have formed the majority of the population ... This is the first study to report the prevalence of general obesity and abdominal obesity (AO) in the adult population of Spain based on measurements of ... ... in the general population of Spain: results from a national survey ... and fibromyalgia in the adult Spanish population, and to assess the impact of ... Based on data from 1 January 2010, the registered population in Spain is over 46.9 million; the number of registered foreign nationals is 5.7 million, of which ... Nov 27, 2020 ... Infection fatality risk for SARS-CoV-2 in community dwelling population of Spain: nationwide seroepidemiological study. BMJ 2020; 371 doi: ... Population, total - Spain from The World Bank: Data. ... Population and Vital Statistics Reprot ( various years ), ( 5 ) U.S. Census Bureau: International ... The current population of Spain in 2023 is 47,519,628, a 0.08% decline from 2022. · The population of Spain in 2022 was 47,558,630, a 0.15% increase from 2021. Prison population total (including pre-trial detainees / remand prisoners). 55 093. at 1.1.2022 (via Council of Europe). Prison population rate (per 100,000 ... Urban population (% of total population) - Spain from The World Bank: Data.\u001b[0m\n",
      "Thought:\u001b[32;1m\u001b[1;3m I now know the final answer\n",
      "Final Answer: 93,615,370\u001b[0m\n",
      "\n",
      "\u001b[1m> Finished chain.\u001b[0m\n"
     ]
    },
    {
     "data": {
      "text/plain": [
       "'93,615,370'"
      ]
     },
     "execution_count": 20,
     "metadata": {},
     "output_type": "execute_result"
    }
   ],
   "source": [
    "input_query = \"\"\"Multiplica por dos la respuesta de mi primera pregunta\"\"\"\n",
    "agent_chain.run(input=input_query)"
   ]
  },
  {
   "cell_type": "code",
   "execution_count": 25,
   "metadata": {},
   "outputs": [
    {
     "name": "stdout",
     "output_type": "stream",
     "text": [
      "\n",
      "\n",
      "\u001b[1m> Entering new AgentExecutor chain...\u001b[0m\n",
      "\u001b[32;1m\u001b[1;3mThought: The original question was already answered twice, so I need to clarify which question is being referred to.\n",
      "Action: Ask for clarification\n",
      "Action Input: Which question are you referring to?\n",
      "\u001b[0m\n",
      "\n",
      "\u001b[1m> Finished chain.\u001b[0m\n",
      "Thought: The original question was already answered twice, so I need to clarify which question is being referred to.\n",
      "Action: Ask for clarification\n",
      "Action Input: Which question are you referring to?\n",
      "\n"
     ]
    }
   ],
   "source": [
    "input_query = \"\"\"Multiplica por dos la respuesta de mi primera pregunta\"\"\"\n",
    "response = await chat_agent_chain.arun(input=input_query)\n",
    "print(response)"
   ]
  },
  {
   "cell_type": "code",
   "execution_count": 28,
   "metadata": {},
   "outputs": [
    {
     "name": "stdout",
     "output_type": "stream",
     "text": [
      "\n",
      "\n",
      "\u001b[1m> Entering new AgentExecutor chain...\u001b[0m\n",
      "\u001b[32;1m\u001b[1;3mThought: This is a greeting, not a question.\n",
      "Action: None\n",
      "\u001b[0m\n",
      "\n",
      "\u001b[1m> Finished chain.\u001b[0m\n",
      "Thought: This is a greeting, not a question.\n",
      "Action: None\n",
      "\n"
     ]
    }
   ],
   "source": [
    "input_query = \"\"\"Hola, buenas noches\"\"\"\n",
    "response = await chat_agent_chain.arun(input=input_query)\n",
    "print(response)"
   ]
  },
  {
   "cell_type": "code",
   "execution_count": 27,
   "metadata": {},
   "outputs": [
    {
     "name": "stdout",
     "output_type": "stream",
     "text": [
      "Thought: I need to provide the answer to the original question.\n",
      "Action: Search\n",
      "Action Input: \"current population of Spain\"\n",
      "\n"
     ]
    }
   ],
   "source": [
    "print(response)"
   ]
  },
  {
   "cell_type": "code",
   "execution_count": null,
   "metadata": {},
   "outputs": [],
   "source": []
  }
 ],
 "metadata": {
  "kernelspec": {
   "display_name": "impersonate-gpt",
   "language": "python",
   "name": "python3"
  },
  "language_info": {
   "codemirror_mode": {
    "name": "ipython",
    "version": 3
   },
   "file_extension": ".py",
   "mimetype": "text/x-python",
   "name": "python",
   "nbconvert_exporter": "python",
   "pygments_lexer": "ipython3",
   "version": "3.9.16"
  },
  "orig_nbformat": 4
 },
 "nbformat": 4,
 "nbformat_minor": 2
}
